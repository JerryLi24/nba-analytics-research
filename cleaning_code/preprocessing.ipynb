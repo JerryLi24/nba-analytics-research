{
 "cells": [
  {
   "cell_type": "code",
   "execution_count": 9,
   "metadata": {},
   "outputs": [],
   "source": [
    "import pandas as pd\n",
    "\n",
    "df = pd.read_csv('/Users/moneysniper/Documents/NBA_analysis_project/gamelogs/nba_games.csv')\n",
    "\n",
    "df['2p'] = df['fg'] - df['3p']\n",
    "df['2pa'] = df['fga'] - df['3pa']\n",
    "df['2p%'] = df['2p'] / df['2pa']\n",
    "df['2p_opp'] = df['fg_opp'] - df['3p_opp']\n",
    "df['2pa_opp'] = df['fga_opp'] - df['3pa_opp']\n",
    "df['2p%_opp'] = df['2p_opp'] / df['2pa_opp']\n",
    "\n",
    "columns = ['fg', 'fga', 'fg%', '3p', '3pa', '3p%', '2p', '2pa', '2p%', 'ft', 'fta', 'ft%', 'orb', 'drb', 'trb', 'ast', 'stl', 'blk', 'tov', 'pf', 'pts']\n",
    "\n",
    "for col in columns:\n",
    "    df['diff_' + col] = df[col] - df[col + '_opp']\n",
    "    \n",
    "max_columns = df.filter(like='max').columns\n",
    "df.drop(columns=max_columns, inplace=True)\n",
    "\n",
    "percentages = ['fg%', '3p%', '2p%', 'ft%', 'fg%_opp', '3p%_opp', '2p%_opp', 'ft%_opp', 'diff_fg%', 'diff_3p%', 'diff_2p%', 'diff_ft%']\n",
    "for col in percentages:\n",
    "    df[col] = df[col] * 100\n",
    "\n",
    "df.to_csv('/Users/moneysniper/Documents/NBA_analysis_project/gamelogs/nba_games_cleansed.csv', index=False)"
   ]
  },
  {
   "cell_type": "code",
   "execution_count": 10,
   "metadata": {},
   "outputs": [
    {
     "name": "stderr",
     "output_type": "stream",
     "text": [
      "/var/folders/cj/tzrst49j55x0lnq9tyvq4v1m0000gn/T/ipykernel_16326/3167600522.py:34: SettingWithCopyWarning: \n",
      "A value is trying to be set on a copy of a slice from a DataFrame\n",
      "\n",
      "See the caveats in the documentation: https://pandas.pydata.org/pandas-docs/stable/user_guide/indexing.html#returning-a-view-versus-a-copy\n",
      "  regular_season.drop(['cutoff', 'playin'], axis=1, inplace=True)\n",
      "/var/folders/cj/tzrst49j55x0lnq9tyvq4v1m0000gn/T/ipykernel_16326/3167600522.py:35: SettingWithCopyWarning: \n",
      "A value is trying to be set on a copy of a slice from a DataFrame\n",
      "\n",
      "See the caveats in the documentation: https://pandas.pydata.org/pandas-docs/stable/user_guide/indexing.html#returning-a-view-versus-a-copy\n",
      "  playin.drop(['cutoff', 'playin'], axis=1, inplace=True)\n",
      "/var/folders/cj/tzrst49j55x0lnq9tyvq4v1m0000gn/T/ipykernel_16326/3167600522.py:36: SettingWithCopyWarning: \n",
      "A value is trying to be set on a copy of a slice from a DataFrame\n",
      "\n",
      "See the caveats in the documentation: https://pandas.pydata.org/pandas-docs/stable/user_guide/indexing.html#returning-a-view-versus-a-copy\n",
      "  playoffs.drop(['cutoff', 'playin'], axis=1, inplace=True)\n"
     ]
    }
   ],
   "source": [
    "df = pd.read_csv('/Users/moneysniper/Documents/NBA_analysis_project/gamelogs/nba_games_cleansed.csv')\n",
    "df['date'] = pd.to_datetime(df['date'])\n",
    "df_sorted = df.sort_values(['season', 'date'])\n",
    "\n",
    "cutoff_dates = {\n",
    "    2016: pd.to_datetime('2016-04-16'),\n",
    "    2017: pd.to_datetime('2017-04-15'),\n",
    "    2018: pd.to_datetime('2018-04-14'),\n",
    "    2019: pd.to_datetime('2019-04-13'),\n",
    "    2020: pd.to_datetime('2020-08-17'),\n",
    "    2021: pd.to_datetime('2021-05-22'),\n",
    "    2022: pd.to_datetime('2022-04-16'),\n",
    "    2023: pd.to_datetime('2023-04-15'),\n",
    "    2024: pd.to_datetime('2024-04-13'),\n",
    "}\n",
    "\n",
    "playin_dates = {\n",
    "    2020: pd.to_datetime('2020-08-15'),\n",
    "    2021: pd.to_datetime('2021-05-18'),\n",
    "    2022: pd.to_datetime('2022-05-17'),\n",
    "    2023: pd.to_datetime('2023-05-16'),\n",
    "    2024: pd.to_datetime('2024-05-14'),\n",
    "}\n",
    "\n",
    "\n",
    "df_sorted['cutoff'] = df_sorted['season'].map(cutoff_dates)\n",
    "df_sorted['playin'] = df_sorted['season'].map(playin_dates)\n",
    "df_sorted['playin'].fillna(df_sorted['cutoff'], inplace=True)\n",
    "\n",
    "regular_season = df_sorted[df_sorted['date'] < df_sorted['playin']]\n",
    "playin = df_sorted[(df_sorted['date'] >= df_sorted['playin']) & (df_sorted['date'] < df_sorted['cutoff'])]\n",
    "playoffs = df_sorted[df_sorted['date'] >= df_sorted['cutoff']]\n",
    "\n",
    "regular_season.drop(['cutoff', 'playin'], axis=1, inplace=True)\n",
    "playin.drop(['cutoff', 'playin'], axis=1, inplace=True)\n",
    "playoffs.drop(['cutoff', 'playin'], axis=1, inplace=True)\n",
    "\n",
    "regular_season.to_csv('/Users/moneysniper/Documents/NBA_analysis_project/gamelogs/regular_season.csv', index=False)\n",
    "playin.to_csv('/Users/moneysniper/Documents/NBA_analysis_project/gamelogs/playin.csv', index=False)\n",
    "playoffs.to_csv('/Users/moneysniper/Documents/NBA_analysis_project/gamelogs/playoffs.csv', index=False)"
   ]
  }
 ],
 "metadata": {
  "kernelspec": {
   "display_name": "base",
   "language": "python",
   "name": "python3"
  },
  "language_info": {
   "codemirror_mode": {
    "name": "ipython",
    "version": 3
   },
   "file_extension": ".py",
   "mimetype": "text/x-python",
   "name": "python",
   "nbconvert_exporter": "python",
   "pygments_lexer": "ipython3",
   "version": "3.11.5"
  }
 },
 "nbformat": 4,
 "nbformat_minor": 2
}
