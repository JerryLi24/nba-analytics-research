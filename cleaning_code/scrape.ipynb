{
 "cells": [
  {
   "cell_type": "code",
   "execution_count": null,
   "metadata": {},
   "outputs": [],
   "source": [
    "%pip install beautifulsoup4\n",
    "%pip install playwright\n",
    "!playwright install\n",
    "!playwright install-deps"
   ]
  },
  {
   "cell_type": "code",
   "execution_count": 9,
   "metadata": {},
   "outputs": [],
   "source": [
    "import os\n",
    "from bs4 import BeautifulSoup\n",
    "from playwright.async_api import async_playwright, TimeoutError as PlaywrightTimeout\n",
    "import time\n",
    "\n",
    "SEASONS = list(range(2016, 2025))\n",
    "\n",
    "DATA_DIR = \"data\"\n",
    "STANDINGS_DIR = os.path.join(DATA_DIR, \"standings\")\n",
    "SCORES_DIR = os.path.join(DATA_DIR, \"scores\")\n",
    "\n",
    "async def get_html(url, selector, sleep=5, retries=7):\n",
    "  html = None\n",
    "  for i in range(1, retries+1):\n",
    "    time.sleep(sleep * i)\n",
    "\n",
    "    try:\n",
    "      async with async_playwright() as p:\n",
    "        browser = await p.firefox.launch()\n",
    "        page = await browser.new_page()\n",
    "        await page.goto(url)\n",
    "        print(await page.title())\n",
    "        html = await page.inner_html(selector)\n",
    "    except PlaywrightTimeout:\n",
    "      print(f\"Timeout error on {url}\")\n",
    "      continue\n",
    "    else:\n",
    "      break\n",
    "  return html\n",
    "\n",
    "async def scrape_season(season):\n",
    "  url = f\"https://www.basketball-reference.com/leagues/NBA_{season}_games.html\"\n",
    "  html = await get_html(url, \"#content .filter\")\n",
    "\n",
    "  soup = BeautifulSoup(html)\n",
    "  links = soup.find_all(\"a\")\n",
    "  href = [l[\"href\"] for l in links]\n",
    "  standings_pages = [f\"https://basketball-reference.com{h}\" for h in href]\n",
    "\n",
    "  for url in standings_pages:\n",
    "    save_path = os.path.join(STANDINGS_DIR, url.split(\"/\")[-1])\n",
    "    if os.path.exists(save_path):\n",
    "      continue\n",
    "\n",
    "    html = await get_html(url, \"#all_schedule\")\n",
    "    with open(save_path, \"w+\") as f:\n",
    "      f.write(html)"
   ]
  },
  {
   "cell_type": "code",
   "execution_count": null,
   "metadata": {},
   "outputs": [],
   "source": [
    "for season in SEASONS:\n",
    "  await scrape_season(season)"
   ]
  },
  {
   "cell_type": "code",
   "execution_count": null,
   "metadata": {},
   "outputs": [],
   "source": [
    "standings_files = os.listdir(STANDINGS_DIR)"
   ]
  },
  {
   "cell_type": "code",
   "execution_count": 10,
   "metadata": {},
   "outputs": [],
   "source": [
    "async def scrape_game(standings_file):\n",
    "  with open(standings_file, 'r') as f:\n",
    "    html = f.read()\n",
    "\n",
    "  soup = BeautifulSoup(html)\n",
    "  links = soup.find_all(\"a\")\n",
    "  hrefs = [l.get(\"href\") for l in links]\n",
    "  box_scores = [h for h in hrefs if h and \"boxscore\" in h and \".html\" in h]\n",
    "  box_scores = [f\"https://www.basketball-reference.com{b}\" for b in box_scores]\n",
    "\n",
    "  for url in box_scores:\n",
    "    save_path = os.path.join(SCORES_DIR, url.split(\"/\")[-1])\n",
    "    if os.path.exists(save_path):\n",
    "      continue\n",
    "\n",
    "    html = await get_html(url, \"#content\")\n",
    "    if not html:\n",
    "      continue\n",
    "    with open(save_path, \"w+\") as f:\n",
    "      f.write(html)"
   ]
  },
  {
   "cell_type": "code",
   "execution_count": 11,
   "metadata": {},
   "outputs": [],
   "source": [
    "standings_files = [s for s in standings_files if \".html\" in s]"
   ]
  },
  {
   "cell_type": "code",
   "execution_count": 12,
   "metadata": {},
   "outputs": [],
   "source": [
    "for f in standings_files:\n",
    "  filepath = os.path.join(STANDINGS_DIR, f)\n",
    "\n",
    "  await scrape_game(filepath)"
   ]
  }
 ],
 "metadata": {
  "kernelspec": {
   "display_name": "base",
   "language": "python",
   "name": "python3"
  },
  "language_info": {
   "codemirror_mode": {
    "name": "ipython",
    "version": 3
   },
   "file_extension": ".py",
   "mimetype": "text/x-python",
   "name": "python",
   "nbconvert_exporter": "python",
   "pygments_lexer": "ipython3",
   "version": "3.11.5"
  }
 },
 "nbformat": 4,
 "nbformat_minor": 2
}
