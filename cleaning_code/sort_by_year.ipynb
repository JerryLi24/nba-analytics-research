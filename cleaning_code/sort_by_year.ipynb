{
 "cells": [
  {
   "cell_type": "code",
   "execution_count": 4,
   "metadata": {},
   "outputs": [],
   "source": [
    "import pandas as pd\n",
    "\n",
    "regular_season = pd.read_csv('/Users/moneysniper/Documents/NBA_analysis_project/gamelogs/regular_season.csv')\n",
    "playoffs = pd.read_csv('/Users/moneysniper/Documents/NBA_analysis_project/gamelogs/playoffs.csv')\n",
    "\n",
    "regular_season_sorted = regular_season.sort_values('season')\n",
    "playoffs_sorted = playoffs.sort_values('season')\n",
    "years = regular_season_sorted['season'].unique()\n",
    "\n",
    "for year in years:\n",
    "    regular_season_sorted[regular_season_sorted['season'] == year].to_csv(f'/Users/moneysniper/Documents/NBA_analysis_project/gamelogs/regular_season_{year}.csv', index=False)\n",
    "    playoffs_sorted[playoffs_sorted['season'] == year].to_csv(f'/Users/moneysniper/Documents/NBA_analysis_project/gamelogs/playoffs_{year}.csv', index=False)"
   ]
  }
 ],
 "metadata": {
  "kernelspec": {
   "display_name": "base",
   "language": "python",
   "name": "python3"
  },
  "language_info": {
   "codemirror_mode": {
    "name": "ipython",
    "version": 3
   },
   "file_extension": ".py",
   "mimetype": "text/x-python",
   "name": "python",
   "nbconvert_exporter": "python",
   "pygments_lexer": "ipython3",
   "version": "3.11.5"
  }
 },
 "nbformat": 4,
 "nbformat_minor": 2
}
