{
 "cells": [
  {
   "cell_type": "code",
   "execution_count": 2,
   "metadata": {},
   "outputs": [],
   "source": [
    "import pandas as pd\n",
    "import glob\n",
    "import os\n",
    "\n",
    "\n",
    "path = '/Users/moneysniper/Documents/NBA_analysis_project/gamelogs'\n",
    "files = glob.glob(os.path.join(path, 'regular_season_*.csv'))\n",
    "\n",
    "df_list = []\n",
    "columns_to_load = [\n",
    "    'diff_orb', 'diff_tov', 'diff_3p%', 'diff_2p%', 'diff_ft%', 'diff_fta', 'diff_3pa'\n",
    "    ]\n",
    "for file in files:\n",
    "    year = os.path.basename(file).split('_')[-1].split('.')[0] \n",
    "    df = pd.read_csv(file)\n",
    "    df = df[df['Unnamed: 0'] % 2 != 0]\n",
    "    df = df[columns_to_load]\n",
    "    df['year'] = int(year)\n",
    "    df_list.append(df)\n",
    "\n",
    "df = pd.concat(df_list, ignore_index=True)\n",
    "\n",
    "overall_df = pd.read_csv('/Users/moneysniper/Documents/NBA_analysis_project/gamelogs/regular_season.csv')\n",
    "overall_df = overall_df[overall_df['Unnamed: 0'] % 2 != 0]\n",
    "overall_df = overall_df[columns_to_load]\n",
    "overall_df['year'] = 'all_year'\n",
    "\n",
    "df = pd.concat([overall_df, df], ignore_index=True)\n",
    "\n",
    "grouped_summary_stats = df.groupby('year').agg(['mean', 'std']).round(5)\n",
    "grouped_summary_stats = grouped_summary_stats.transpose()\n",
    "grouped_summary_stats.to_csv('description_table.csv')"
   ]
  },
  {
   "cell_type": "code",
   "execution_count": 11,
   "metadata": {},
   "outputs": [
    {
     "name": "stdout",
     "output_type": "stream",
     "text": [
      "\\begin{tabular}{llrrrrrrrrrr}\n",
      "\\toprule\n",
      " & year & 2016 & 2017 & 2018 & 2019 & 2020 & 2021 & 2022 & 2023 & 2024 & all_year \\\\\n",
      "\\midrule\n",
      "\\multirow[t]{2}{*}{diff_orb} & mean & 0.2 & 0.1 & 0.2 & 0.3 & 0.4 & 0.1 & 0.1 & 0.0 & 0.2 & 0.2 \\\\\n",
      " & std & 5.6 & 5.4 & 5.2 & 5.4 & 5.2 & 5.1 & 5.5 & 5.6 & 5.5 & 5.4 \\\\\n",
      "\\cline{1-12}\n",
      "\\multirow[t]{2}{*}{diff_tov} & mean & -0.4 & -0.2 & -0.1 & -0.1 & 0.1 & 0.3 & -0.3 & -0.2 & -0.0 & -0.1 \\\\\n",
      " & std & 5.0 & 4.9 & 4.9 & 5.1 & 5.1 & 5.1 & 4.8 & 5.2 & 5.0 & 5.0 \\\\\n",
      "\\cline{1-12}\n",
      "\\multirow[t]{2}{*}{diff_3p%} & mean & 1.0 & 2.0 & -0.1 & 0.8 & 0.7 & 0.6 & 0.4 & 1.3 & 0.7 & 0.8 \\\\\n",
      " & std & 14.3 & 13.6 & 12.9 & 12.3 & 12.0 & 12.5 & 12.0 & 11.9 & 11.7 & 12.6 \\\\\n",
      "\\cline{1-12}\n",
      "\\multirow[t]{2}{*}{diff_2p%} & mean & 1.0 & 0.9 & 1.6 & 1.3 & 0.9 & 0.3 & 1.1 & 0.8 & 0.8 & 1.0 \\\\\n",
      " & std & 9.3 & 9.5 & 10.0 & 10.0 & 10.3 & 10.0 & 10.5 & 10.2 & 10.8 & 10.1 \\\\\n",
      "\\cline{1-12}\n",
      "\\multirow[t]{2}{*}{diff_ft%} & mean & 0.4 & 0.1 & 0.0 & -0.1 & -0.2 & 0.2 & -0.1 & 0.2 & 1.8 & 0.3 \\\\\n",
      " & std & 14.9 & 14.0 & 14.9 & 14.4 & 14.1 & 14.5 & 14.2 & 13.7 & 14.4 & 14.3 \\\\\n",
      "\\cline{1-12}\n",
      "\\multirow[t]{2}{*}{diff_fta} & mean & 1.1 & 1.0 & 0.5 & 0.7 & 0.5 & 0.8 & 0.3 & 0.7 & 0.4 & 0.7 \\\\\n",
      " & std & 9.5 & 9.2 & 9.0 & 9.1 & 9.1 & 8.7 & 8.9 & 8.8 & 8.8 & 9.0 \\\\\n",
      "\\cline{1-12}\n",
      "\\multirow[t]{2}{*}{diff_3pa} & mean & -0.1 & -0.1 & 0.2 & 0.2 & -0.3 & -0.0 & 0.7 & 0.2 & 0.3 & 0.1 \\\\\n",
      " & std & 9.3 & 9.0 & 9.7 & 10.2 & 9.4 & 9.5 & 8.4 & 10.1 & 9.2 & 9.4 \\\\\n",
      "\\cline{1-12}\n",
      "\\bottomrule\n",
      "\\end{tabular}\n",
      "\n"
     ]
    }
   ],
   "source": [
    "content_mapping = {\n",
    "    'diff_orb': 'difference of offensive rebounds',\n",
    "    'diff_tov': 'difference of turnovers',\n",
    "    'diff_3p%': 'difference of 3 point shooting percentage',\n",
    "    'diff_2p%': 'difference of 2 point shooting percentage',\n",
    "    'diff_ft%': 'difference of free throw percentage',\n",
    "    'diff_fta': 'difference of free throw attempts',\n",
    "    'diff_3pa': 'difference of 3 point attempts'\n",
    "}\n",
    "\n",
    "# Replace the content in the DataFrame\n",
    "grouped_summary_stats_replaced = grouped_summary_stats.replace(content_mapping, regex=True)\n",
    "\n",
    "grouped_summary_stats_replaced = grouped_summary_stats_replaced.replace('_', ' ', regex=True)\n",
    "grouped_summary_stats_replaced.columns = grouped_summary_stats_replaced.columns.str.replace('_', ' ')\n",
    "\n",
    "latex_output = grouped_summary_stats.to_latex(index=True, float_format=\"{:.1f}\".format)\n",
    "\n",
    "# Print the LaTeX output\n",
    "print(latex_output)"
   ]
  }
 ],
 "metadata": {
  "kernelspec": {
   "display_name": "base",
   "language": "python",
   "name": "python3"
  },
  "language_info": {
   "codemirror_mode": {
    "name": "ipython",
    "version": 3
   },
   "file_extension": ".py",
   "mimetype": "text/x-python",
   "name": "python",
   "nbconvert_exporter": "python",
   "pygments_lexer": "ipython3",
   "version": "3.11.5"
  }
 },
 "nbformat": 4,
 "nbformat_minor": 2
}
