{
 "cells": [
  {
   "cell_type": "code",
   "execution_count": 2,
   "metadata": {},
   "outputs": [
    {
     "name": "stdout",
     "output_type": "stream",
     "text": [
      "Optimization terminated successfully.\n",
      "         Current function value: 0.162681\n",
      "         Iterations 9\n",
      "Optimization terminated successfully.\n",
      "         Current function value: 0.154646\n",
      "         Iterations 9\n",
      "Optimization terminated successfully.\n",
      "         Current function value: 0.166666\n",
      "         Iterations 9\n",
      "Optimization terminated successfully.\n",
      "         Current function value: 0.155920\n",
      "         Iterations 9\n",
      "Optimization terminated successfully.\n",
      "         Current function value: 0.158272\n",
      "         Iterations 9\n",
      "Optimization terminated successfully.\n",
      "         Current function value: 0.129805\n",
      "         Iterations 9\n"
     ]
    }
   ],
   "source": [
    "import pandas as pd\n",
    "import statsmodels.api as sm\n",
    "import numpy as np\n",
    "import glob\n",
    "import os\n",
    "\n",
    "factors = ['diff_orb', 'diff_tov', 'diff_3p%', 'diff_2p%', 'diff_ft%', 'diff_fta', 'diff_3pa']\n",
    "\n",
    "rank_combined = pd.DataFrame()\n",
    "for year in list(range(2016, 2025)):\n",
    "    rank = pd.read_csv(f'/Users/moneysniper/Documents/NBA_analysis_project/standings/standing_{year}.csv', skiprows = 1)\n",
    "    rank.replace({'Team':{'Golden State Warriors':'GSW', 'San Antonio Spurs':'SAS', 'Cleveland Cavaliers':'CLE', 'Toronto Raptors':'TOR', 'Oklahoma City Thunder':'OKC', 'Los Angeles Clippers':'LAC', 'Atlanta Hawks':'ATL', 'Boston Celtics':'BOS', 'Charlotte Hornets':'CHO', 'Miami Heat':'MIA', 'Indiana Pacers':'IND', 'Detroit Pistons':'DET', 'Portland Trail Blazers':'POR', 'Chicago Bulls':'CHI', 'Dallas Mavericks':'DAL', 'Washington Wizards':'WAS', 'Utah Jazz':'UTA', 'Houston Rockets':'HOU', 'Memphis Grizzlies':'MEM', 'Sacramento Kings':'SAC', 'Orlando Magic':'ORL', 'Milwaukee Bucks':'MIL', 'New York Knicks':'NYK', 'New Orleans Pelicans':'NOP', 'Minnesota Timberwolves':'MIN', 'Phoenix Suns':'PHO', 'Philadelphia 76ers':'PHI', 'Los Angeles Lakers':'LAL', 'Brooklyn Nets':'BRK', 'Denver Nuggets':'DEN'}}, inplace = True)\n",
    "    rank['Season'] = year\n",
    "    rank_combined = pd.concat([rank_combined, rank])\n",
    "\n",
    "game_logs = pd.read_csv(f'/Users/moneysniper/Documents/NBA_analysis_project/gamelogs/regular_season.csv')\n",
    "factors = ['diff_orb', 'diff_tov', 'diff_3p%', 'diff_2p%', 'diff_ft%', 'diff_fta', 'diff_3pa']\n",
    "\n",
    "merged = game_logs.merge(rank_combined, left_on=['team', 'season'] , right_on=['Team', 'Season'])\n",
    "merged = merged.merge(rank_combined, left_on=['team_opp', 'season'], right_on=['Team', 'Season'], suffixes=('', '_opp'))\n",
    "merged['group'] = pd.cut(merged['Rk'], bins=[0, 10, 20, 30], labels=['top', 'mid', 'bottom'])\n",
    "merged['opponent_group'] = pd.cut(merged['Rk_opp'], bins=[0, 10, 20, 30], labels=['top', 'mid', 'bottom'])\n",
    "top_vs_top = merged[(merged['group'] == 'top') & (merged['opponent_group'] == 'top')]\n",
    "mid_vs_mid = merged[(merged['group'] == 'mid') & (merged['opponent_group'] == 'mid')]\n",
    "bottom_vs_bottom = merged[(merged['group'] == 'bottom') & (merged['opponent_group'] == 'bottom')]\n",
    "top_vs_mid = merged[(merged['group'] == 'top') & (merged['opponent_group'] == 'mid')]\n",
    "mid_vs_bottom = merged[(merged['group'] == 'mid') & (merged['opponent_group'] == 'bottom')]\n",
    "top_vs_bottom = merged[(merged['group'] == 'top') & (merged['opponent_group'] == 'bottom')]\n",
    "\n",
    "groupings = [('top_vs_top', top_vs_top), ('mid_vs_mid', mid_vs_mid), ('bottom_vs_bottom', bottom_vs_bottom), \n",
    "            ('top_vs_mid', top_vs_mid), ('mid_vs_bottom', mid_vs_bottom), ('top_vs_bottom', top_vs_bottom)]\n",
    "\n",
    "exp_params = {}\n",
    "for name, group in groupings:\n",
    "        df = group.dropna(subset = factors + ['won'])\n",
    "        \n",
    "        X = df[factors]\n",
    "        y = df['won']\n",
    "\n",
    "        X = sm.add_constant(X)\n",
    "        model = sm.Logit(y, X)\n",
    "        result = model.fit()\n",
    "        \n",
    "        exp_params[name] = np.exp(result.params)\n",
    "\n",
    "exp_params_df = pd.DataFrame(exp_params)\n",
    "exp_params_df = exp_params_df.drop('const', axis=0)\n",
    "exp_params_df.to_csv('Heterogenous.csv')  "
   ]
  }
 ],
 "metadata": {
  "kernelspec": {
   "display_name": "base",
   "language": "python",
   "name": "python3"
  },
  "language_info": {
   "codemirror_mode": {
    "name": "ipython",
    "version": 3
   },
   "file_extension": ".py",
   "mimetype": "text/x-python",
   "name": "python",
   "nbconvert_exporter": "python",
   "pygments_lexer": "ipython3",
   "version": "3.11.5"
  }
 },
 "nbformat": 4,
 "nbformat_minor": 2
}
